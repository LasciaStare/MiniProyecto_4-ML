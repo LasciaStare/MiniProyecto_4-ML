{
 "cells": [
  {
   "cell_type": "markdown",
   "id": "582e7105",
   "metadata": {},
   "source": [
    "# Notebook 2: Modelado con Scikit-learn\n",
    "\n",
    "## Objetivo\n",
    "\n",
    "Este notebook se enfoca en construir, entrenar y evaluar un modelo de clasificación utilizando el ecosistema de Scikit-learn. Las tareas específicas son:\n",
    "\n",
    "1.  **Cargar** el conjunto de datos limpio generado en el notebook anterior.\n",
    "2.  **Construir un pipeline de preprocesamiento** para manejar la imputación, codificación y escalado de características.\n",
    "3.  **Entrenar un `RandomForestClassifier`** y optimizar sus hiperparámetros usando `GridSearchCV`.\n",
    "4.  **Evaluar** el rendimiento del mejor modelo en el conjunto de prueba.\n",
    "5.  **Guardar** el modelo entrenado y sus métricas de rendimiento para su uso posterior.\n",
    "\n",
    "-   **Entrada:** `../data/processed/loans_cleaned.parquet`\n",
    "-   **Salidas:**\n",
    "    -   `../models/sklearn_random_forest.joblib` (El pipeline del modelo entrenado)\n",
    "    -   `../results/sklearn_metrics.json` (Las métricas de evaluación y el tiempo de entrenamiento)\n",
    "\n",
    "### 1. Importación de Librerías"
   ]
  },
  {
   "cell_type": "code",
   "execution_count": 2,
   "id": "48b876a8",
   "metadata": {},
   "outputs": [],
   "source": [
    "import pandas as pd\n",
    "import numpy as np\n",
    "import matplotlib.pyplot as plt\n",
    "import seaborn as sns\n",
    "import time\n",
    "import joblib\n",
    "import json\n",
    "import os\n",
    "\n",
    "# Scikit-learn\n",
    "from sklearn.model_selection import train_test_split, GridSearchCV\n",
    "from sklearn.preprocessing import StandardScaler, OneHotEncoder\n",
    "from sklearn.compose import ColumnTransformer\n",
    "from sklearn.pipeline import Pipeline\n",
    "from sklearn.ensemble import RandomForestClassifier\n",
    "from sklearn.impute import SimpleImputer\n",
    "from sklearn.metrics import (\n",
    "    accuracy_score, precision_score, recall_score, f1_score, roc_auc_score,\n",
    "    confusion_matrix, ConfusionMatrixDisplay\n",
    ")\n",
    "\n",
    "# Configuraciones de visualización\n",
    "sns.set_style('whitegrid')\n",
    "plt.rcParams['figure.figsize'] = (10, 6)"
   ]
  },
  {
   "cell_type": "markdown",
   "id": "d05ea82a",
   "metadata": {},
   "source": [
    "### 2. Definición de Rutas y Carga de Datos"
   ]
  },
  {
   "cell_type": "code",
   "execution_count": 3,
   "id": "1a30ee98",
   "metadata": {},
   "outputs": [],
   "source": [
    "# Definir las rutas relativas\n",
    "PROCESSED_DATA_PATH = '../data/processed/loans_cleaned.parquet'\n",
    "MODEL_PATH = '../models/sklearn_random_forest.joblib'\n",
    "RESULTS_PATH = '../results/sklearn_metrics.json'\n",
    "MODELS_DIR = '../models'\n",
    "RESULTS_DIR = '../results'\n",
    "\n",
    "# Crear los directorios de salida si no existen\n",
    "os.makedirs(MODELS_DIR, exist_ok=True)\n",
    "os.makedirs(RESULTS_DIR, exist_ok=True)"
   ]
  },
  {
   "cell_type": "code",
   "execution_count": 9,
   "id": "c49d3cf2",
   "metadata": {},
   "outputs": [
    {
     "name": "stdout",
     "output_type": "stream",
     "text": [
      "Dataset cargado exitosamente desde 'data/processed/loans_cleaned.parquet'\n",
      "Dimensiones del dataset: (1345310, 10)\n"
     ]
    },
    {
     "data": {
      "application/vnd.microsoft.datawrangler.viewer.v0+json": {
       "columns": [
        {
         "name": "index",
         "rawType": "int64",
         "type": "integer"
        },
        {
         "name": "loan_amnt",
         "rawType": "float64",
         "type": "float"
        },
        {
         "name": "int_rate",
         "rawType": "float64",
         "type": "float"
        },
        {
         "name": "fico_range_high",
         "rawType": "float64",
         "type": "float"
        },
        {
         "name": "emp_length",
         "rawType": "float64",
         "type": "float"
        },
        {
         "name": "annual_inc",
         "rawType": "float64",
         "type": "float"
        },
        {
         "name": "purpose",
         "rawType": "object",
         "type": "string"
        },
        {
         "name": "home_ownership",
         "rawType": "object",
         "type": "string"
        },
        {
         "name": "dti",
         "rawType": "float64",
         "type": "float"
        },
        {
         "name": "addr_state",
         "rawType": "object",
         "type": "string"
        },
        {
         "name": "default",
         "rawType": "int64",
         "type": "integer"
        }
       ],
       "ref": "bdde718c-819c-4cba-a13a-07f0861e812c",
       "rows": [
        [
         "0",
         "3600.0",
         "13.99",
         "679.0",
         "10.0",
         "55000.0",
         "debt_consolidation",
         "MORTGAGE",
         "5.91",
         "PA",
         "0"
        ],
        [
         "1",
         "24700.0",
         "11.99",
         "719.0",
         "10.0",
         "65000.0",
         "small_business",
         "MORTGAGE",
         "16.06",
         "SD",
         "0"
        ],
        [
         "2",
         "20000.0",
         "10.78",
         "699.0",
         "10.0",
         "63000.0",
         "home_improvement",
         "MORTGAGE",
         "10.78",
         "IL",
         "0"
        ],
        [
         "3",
         "10400.0",
         "22.45",
         "699.0",
         "3.0",
         "104433.0",
         "major_purchase",
         "MORTGAGE",
         "25.37",
         "PA",
         "0"
        ],
        [
         "4",
         "11950.0",
         "13.44",
         "694.0",
         "4.0",
         "34000.0",
         "debt_consolidation",
         "RENT",
         "10.2",
         "GA",
         "0"
        ]
       ],
       "shape": {
        "columns": 10,
        "rows": 5
       }
      },
      "text/html": [
       "<div>\n",
       "<style scoped>\n",
       "    .dataframe tbody tr th:only-of-type {\n",
       "        vertical-align: middle;\n",
       "    }\n",
       "\n",
       "    .dataframe tbody tr th {\n",
       "        vertical-align: top;\n",
       "    }\n",
       "\n",
       "    .dataframe thead th {\n",
       "        text-align: right;\n",
       "    }\n",
       "</style>\n",
       "<table border=\"1\" class=\"dataframe\">\n",
       "  <thead>\n",
       "    <tr style=\"text-align: right;\">\n",
       "      <th></th>\n",
       "      <th>loan_amnt</th>\n",
       "      <th>int_rate</th>\n",
       "      <th>fico_range_high</th>\n",
       "      <th>emp_length</th>\n",
       "      <th>annual_inc</th>\n",
       "      <th>purpose</th>\n",
       "      <th>home_ownership</th>\n",
       "      <th>dti</th>\n",
       "      <th>addr_state</th>\n",
       "      <th>default</th>\n",
       "    </tr>\n",
       "  </thead>\n",
       "  <tbody>\n",
       "    <tr>\n",
       "      <th>0</th>\n",
       "      <td>3600.0</td>\n",
       "      <td>13.99</td>\n",
       "      <td>679.0</td>\n",
       "      <td>10.0</td>\n",
       "      <td>55000.0</td>\n",
       "      <td>debt_consolidation</td>\n",
       "      <td>MORTGAGE</td>\n",
       "      <td>5.91</td>\n",
       "      <td>PA</td>\n",
       "      <td>0</td>\n",
       "    </tr>\n",
       "    <tr>\n",
       "      <th>1</th>\n",
       "      <td>24700.0</td>\n",
       "      <td>11.99</td>\n",
       "      <td>719.0</td>\n",
       "      <td>10.0</td>\n",
       "      <td>65000.0</td>\n",
       "      <td>small_business</td>\n",
       "      <td>MORTGAGE</td>\n",
       "      <td>16.06</td>\n",
       "      <td>SD</td>\n",
       "      <td>0</td>\n",
       "    </tr>\n",
       "    <tr>\n",
       "      <th>2</th>\n",
       "      <td>20000.0</td>\n",
       "      <td>10.78</td>\n",
       "      <td>699.0</td>\n",
       "      <td>10.0</td>\n",
       "      <td>63000.0</td>\n",
       "      <td>home_improvement</td>\n",
       "      <td>MORTGAGE</td>\n",
       "      <td>10.78</td>\n",
       "      <td>IL</td>\n",
       "      <td>0</td>\n",
       "    </tr>\n",
       "    <tr>\n",
       "      <th>3</th>\n",
       "      <td>10400.0</td>\n",
       "      <td>22.45</td>\n",
       "      <td>699.0</td>\n",
       "      <td>3.0</td>\n",
       "      <td>104433.0</td>\n",
       "      <td>major_purchase</td>\n",
       "      <td>MORTGAGE</td>\n",
       "      <td>25.37</td>\n",
       "      <td>PA</td>\n",
       "      <td>0</td>\n",
       "    </tr>\n",
       "    <tr>\n",
       "      <th>4</th>\n",
       "      <td>11950.0</td>\n",
       "      <td>13.44</td>\n",
       "      <td>694.0</td>\n",
       "      <td>4.0</td>\n",
       "      <td>34000.0</td>\n",
       "      <td>debt_consolidation</td>\n",
       "      <td>RENT</td>\n",
       "      <td>10.20</td>\n",
       "      <td>GA</td>\n",
       "      <td>0</td>\n",
       "    </tr>\n",
       "  </tbody>\n",
       "</table>\n",
       "</div>"
      ],
      "text/plain": [
       "   loan_amnt  int_rate  fico_range_high  emp_length  annual_inc  \\\n",
       "0     3600.0     13.99            679.0        10.0     55000.0   \n",
       "1    24700.0     11.99            719.0        10.0     65000.0   \n",
       "2    20000.0     10.78            699.0        10.0     63000.0   \n",
       "3    10400.0     22.45            699.0         3.0    104433.0   \n",
       "4    11950.0     13.44            694.0         4.0     34000.0   \n",
       "\n",
       "              purpose home_ownership    dti addr_state  default  \n",
       "0  debt_consolidation       MORTGAGE   5.91         PA        0  \n",
       "1      small_business       MORTGAGE  16.06         SD        0  \n",
       "2    home_improvement       MORTGAGE  10.78         IL        0  \n",
       "3      major_purchase       MORTGAGE  25.37         PA        0  \n",
       "4  debt_consolidation           RENT  10.20         GA        0  "
      ]
     },
     "execution_count": 9,
     "metadata": {},
     "output_type": "execute_result"
    }
   ],
   "source": [
    "# Cargar el dataset procesado\n",
    "df = pd.read_parquet(PROCESSED_DATA_PATH)\n",
    "\n",
    "print(f\"Dataset cargado exitosamente desde '{PROCESSED_DATA_PATH}'\")\n",
    "print(f\"Dimensiones del dataset: {df.shape}\")\n",
    "df.head()"
   ]
  },
  {
   "cell_type": "markdown",
   "id": "acaad5ad",
   "metadata": {},
   "source": [
    "### 3. Preparación de Datos para el Modelo\n",
    "\n",
    "Dividimos los datos en características (`X`) y variable objetivo (`y`), y luego en conjuntos de entrenamiento y prueba."
   ]
  },
  {
   "cell_type": "code",
   "execution_count": 10,
   "id": "cd20b7c0",
   "metadata": {},
   "outputs": [
    {
     "name": "stdout",
     "output_type": "stream",
     "text": [
      "Dimensiones de los conjuntos de datos:\n",
      "X_train: (1076248, 9), y_train: (1076248,)\n",
      "X_test: (269062, 9), y_test: (269062,)\n"
     ]
    }
   ],
   "source": [
    "# Separar características y variable objetivo\n",
    "X = df.drop('default', axis=1)\n",
    "y = df['default']\n",
    "\n",
    "# Dividir en conjuntos de entrenamiento (80%) y prueba (20%)\n",
    "# Usamos stratify=y para mantener la proporción de clases en ambos conjuntos\n",
    "X_train, X_test, y_train, y_test = train_test_split(\n",
    "    X, y, test_size=0.2, random_state=42, stratify=y\n",
    ")\n",
    "\n",
    "print(\"Dimensiones de los conjuntos de datos:\")\n",
    "print(f\"X_train: {X_train.shape}, y_train: {y_train.shape}\")\n",
    "print(f\"X_test: {X_test.shape}, y_test: {y_test.shape}\")"
   ]
  },
  {
   "cell_type": "markdown",
   "id": "8b04f1f8",
   "metadata": {},
   "source": [
    "### 4. Construcción del Pipeline de Preprocesamiento y Modelado\n",
    "\n",
    "Creamos un pipeline que automatiza todos los pasos: imputación de valores faltantes, codificación de variables categóricas, escalado de variables numéricas y el clasificador final."
   ]
  },
  {
   "cell_type": "code",
   "execution_count": 11,
   "id": "6e0c8e82",
   "metadata": {},
   "outputs": [
    {
     "name": "stdout",
     "output_type": "stream",
     "text": [
      "Columnas Numéricas: ['loan_amnt', 'int_rate', 'fico_range_high', 'emp_length', 'annual_inc', 'dti']\n",
      "Columnas Categóricas: ['purpose', 'home_ownership', 'addr_state']\n",
      "\n",
      "Pipeline de Scikit-learn creado exitosamente.\n"
     ]
    }
   ],
   "source": [
    "# Identificar columnas numéricas y categóricas\n",
    "numerical_features = X_train.select_dtypes(include=np.number).columns.tolist()\n",
    "categorical_features = X_train.select_dtypes(exclude=np.number).columns.tolist()\n",
    "\n",
    "print(\"Columnas Numéricas:\", numerical_features)\n",
    "print(\"Columnas Categóricas:\", categorical_features)\n",
    "\n",
    "# Crear pipeline para transformaciones numéricas\n",
    "numerical_transformer = Pipeline(steps=[\n",
    "    ('imputer', SimpleImputer(strategy='median')),  # Imputar con la mediana\n",
    "    ('scaler', StandardScaler())                    # Escalar características\n",
    "])\n",
    "\n",
    "# Crear pipeline para transformaciones categóricas\n",
    "categorical_transformer = Pipeline(steps=[\n",
    "    ('imputer', SimpleImputer(strategy='most_frequent')), # Imputar con el valor más frecuente\n",
    "    ('onehot', OneHotEncoder(handle_unknown='ignore'))     # Codificación One-Hot\n",
    "])\n",
    "\n",
    "# Combinar los transformadores en un único preprocesador\n",
    "preprocessor = ColumnTransformer(\n",
    "    transformers=[\n",
    "        ('num', numerical_transformer, numerical_features),\n",
    "        ('cat', categorical_transformer, categorical_features)\n",
    "    ],\n",
    "    remainder='passthrough' # Mantiene columnas no especificadas (si las hubiera)\n",
    ")\n",
    "\n",
    "# Crear el pipeline final que incluye el preprocesador y el clasificador\n",
    "model_pipeline = Pipeline(steps=[\n",
    "    ('preprocessor', preprocessor),\n",
    "    ('classifier', RandomForestClassifier(random_state=42, n_jobs=-1))\n",
    "])\n",
    "\n",
    "print(\"\\nPipeline de Scikit-learn creado exitosamente.\")"
   ]
  },
  {
   "cell_type": "markdown",
   "id": "e1885861",
   "metadata": {},
   "source": [
    "### 5. Entrenamiento y Ajuste de Hiperparámetros con GridSearchCV\n",
    "\n",
    "Buscamos la mejor combinación de hiperparámetros para nuestro `RandomForestClassifier` y medimos el tiempo que toma este proceso."
   ]
  },
  {
   "cell_type": "code",
   "execution_count": 12,
   "id": "6bb9f773",
   "metadata": {},
   "outputs": [
    {
     "name": "stdout",
     "output_type": "stream",
     "text": [
      "Iniciando GridSearchCV para Scikit-learn...\n",
      "Fitting 3 folds for each of 9 candidates, totalling 27 fits\n",
      "[CV] END classifier__max_depth=5, classifier__n_estimators=10; total time=   4.5s\n",
      "[CV] END classifier__max_depth=5, classifier__n_estimators=10; total time=   4.4s\n",
      "[CV] END classifier__max_depth=5, classifier__n_estimators=10; total time=   4.1s\n",
      "[CV] END classifier__max_depth=5, classifier__n_estimators=50; total time=  13.3s\n",
      "[CV] END classifier__max_depth=5, classifier__n_estimators=50; total time=  14.2s\n",
      "[CV] END classifier__max_depth=5, classifier__n_estimators=50; total time=  14.7s\n",
      "[CV] END classifier__max_depth=5, classifier__n_estimators=100; total time=  26.2s\n",
      "[CV] END classifier__max_depth=5, classifier__n_estimators=100; total time=  22.5s\n",
      "[CV] END classifier__max_depth=5, classifier__n_estimators=100; total time=  21.4s\n",
      "[CV] END classifier__max_depth=10, classifier__n_estimators=10; total time=   8.1s\n",
      "[CV] END classifier__max_depth=10, classifier__n_estimators=10; total time=   7.6s\n",
      "[CV] END classifier__max_depth=10, classifier__n_estimators=10; total time=   7.7s\n",
      "[CV] END classifier__max_depth=10, classifier__n_estimators=50; total time=  30.0s\n",
      "[CV] END classifier__max_depth=10, classifier__n_estimators=50; total time=  34.0s\n",
      "[CV] END classifier__max_depth=10, classifier__n_estimators=50; total time=  32.1s\n",
      "[CV] END classifier__max_depth=10, classifier__n_estimators=100; total time= 1.0min\n",
      "[CV] END classifier__max_depth=10, classifier__n_estimators=100; total time=  56.1s\n",
      "[CV] END classifier__max_depth=10, classifier__n_estimators=100; total time=  53.0s\n",
      "[CV] END classifier__max_depth=15, classifier__n_estimators=10; total time=  17.4s\n",
      "[CV] END classifier__max_depth=15, classifier__n_estimators=10; total time=  16.0s\n",
      "[CV] END classifier__max_depth=15, classifier__n_estimators=10; total time=  16.4s\n",
      "[CV] END classifier__max_depth=15, classifier__n_estimators=50; total time= 1.2min\n",
      "[CV] END classifier__max_depth=15, classifier__n_estimators=50; total time= 1.2min\n",
      "[CV] END classifier__max_depth=15, classifier__n_estimators=50; total time= 1.5min\n",
      "[CV] END classifier__max_depth=15, classifier__n_estimators=100; total time= 2.7min\n",
      "[CV] END classifier__max_depth=15, classifier__n_estimators=100; total time= 3.2min\n",
      "[CV] END classifier__max_depth=15, classifier__n_estimators=100; total time= 3.2min\n",
      "\n",
      "GridSearchCV completado en 1547.44 segundos.\n",
      "Mejores hiperparámetros encontrados: {'classifier__max_depth': 15, 'classifier__n_estimators': 100}\n",
      "Mejor puntuación ROC AUC (en validación cruzada): 0.7031\n"
     ]
    }
   ],
   "source": [
    "# Definir el grid de hiperparámetros a explorar\n",
    "param_grid = {\n",
    "    'classifier__n_estimators': [10, 50, 100],\n",
    "    'classifier__max_depth': [5, 10, 15]\n",
    "}\n",
    "\n",
    "# Configurar GridSearchCV\n",
    "# Usamos 3-fold Cross-Validation y optimizamos para ROC AUC\n",
    "grid_search = GridSearchCV(\n",
    "    model_pipeline, \n",
    "    param_grid, \n",
    "    cv=3,\n",
    "    scoring='roc_auc', \n",
    "    verbose=2\n",
    ")\n",
    "\n",
    "# Medir el tiempo de entrenamiento\n",
    "print(\"Iniciando GridSearchCV para Scikit-learn...\")\n",
    "start_time_sklearn = time.time()\n",
    "grid_search.fit(X_train, y_train)\n",
    "end_time_sklearn = time.time()\n",
    "\n",
    "sklearn_training_time = end_time_sklearn - start_time_sklearn\n",
    "\n",
    "print(f\"\\nGridSearchCV completado en {sklearn_training_time:.2f} segundos.\")\n",
    "print(f\"Mejores hiperparámetros encontrados: {grid_search.best_params_}\")\n",
    "print(f\"Mejor puntuación ROC AUC (en validación cruzada): {grid_search.best_score_:.4f}\")"
   ]
  },
  {
   "cell_type": "markdown",
   "id": "25f5ac9b",
   "metadata": {},
   "source": [
    "### 6. Evaluación del Mejor Modelo\n",
    "\n",
    "Usamos el mejor modelo encontrado por `GridSearchCV` para hacer predicciones en el conjunto de prueba y calcular las métricas de rendimiento."
   ]
  },
  {
   "cell_type": "code",
   "execution_count": 13,
   "id": "82a26e43",
   "metadata": {},
   "outputs": [
    {
     "name": "stdout",
     "output_type": "stream",
     "text": [
      "Métricas de Evaluación en el Conjunto de Prueba (Scikit-learn):\n",
      "- Accuracy: 0.8006\n",
      "- Precision: 0.6496\n",
      "- Recall: 0.0028\n",
      "- F1-score: 0.0056\n",
      "- ROC AUC: 0.7028\n"
     ]
    }
   ],
   "source": [
    "# Obtener el mejor estimador (pipeline completo)\n",
    "best_model_sklearn = grid_search.best_estimator_\n",
    "\n",
    "# Realizar predicciones en el conjunto de prueba\n",
    "y_pred_sklearn = best_model_sklearn.predict(X_test)\n",
    "y_proba_sklearn = best_model_sklearn.predict_proba(X_test)[:, 1]\n",
    "\n",
    "# Calcular las métricas de evaluación\n",
    "sklearn_metrics = {\n",
    "    'Accuracy': accuracy_score(y_test, y_pred_sklearn),\n",
    "    'Precision': precision_score(y_test, y_pred_sklearn),\n",
    "    'Recall': recall_score(y_test, y_pred_sklearn),\n",
    "    'F1-score': f1_score(y_test, y_pred_sklearn),\n",
    "    'ROC AUC': roc_auc_score(y_test, y_proba_sklearn)\n",
    "}\n",
    "\n",
    "print(\"Métricas de Evaluación en el Conjunto de Prueba (Scikit-learn):\")\n",
    "for metric, value in sklearn_metrics.items():\n",
    "    print(f\"- {metric}: {value:.4f}\")"
   ]
  },
  {
   "cell_type": "markdown",
   "id": "8eaddf7a",
   "metadata": {},
   "source": [
    "#### Matriz de Confusión\n",
    "Visualizamos la matriz de confusión para entender mejor el tipo de errores que comete el modelo."
   ]
  },
  {
   "cell_type": "code",
   "execution_count": 14,
   "id": "a38e05bf",
   "metadata": {},
   "outputs": [
    {
     "data": {
      "image/png": "[encoded data removed]",
      "text/plain": [
       "<Figure size 1000x600 with 2 Axes>"
      ]
     },
     "metadata": {},
     "output_type": "display_data"
    }
   ],
   "source": [
    "cm = confusion_matrix(y_test, y_pred_sklearn)\n",
    "disp = ConfusionMatrixDisplay(confusion_matrix=cm, display_labels=['Pagado (0)', 'Incumplimiento (1)'])\n",
    "disp.plot(cmap=plt.cm.Blues)\n",
    "plt.title('Matriz de Confusión - Scikit-learn')\n",
    "plt.show()"
   ]
  },
  {
   "cell_type": "markdown",
   "id": "89cff4ae",
   "metadata": {},
   "source": [
    "### 7. Guardado de Artefactos (Modelo y Resultados)\n",
    "\n",
    "Guardamos el pipeline del modelo entrenado y un archivo JSON con las métricas y el tiempo de entrenamiento para su uso en los notebooks de interpretabilidad y comparación."
   ]
  },
  {
   "cell_type": "code",
   "execution_count": 15,
   "id": "22e57ed4",
   "metadata": {},
   "outputs": [
    {
     "name": "stdout",
     "output_type": "stream",
     "text": [
      "Modelo de Scikit-learn guardado en: 'models/sklearn_random_forest.joblib'\n",
      "Resultados de Scikit-learn guardados en: 'results/sklearn_metrics.json'\n"
     ]
    }
   ],
   "source": [
    "# Guardar el pipeline del modelo\n",
    "joblib.dump(best_model_sklearn, MODEL_PATH)\n",
    "print(f\"Modelo de Scikit-learn guardado en: '{MODEL_PATH}'\")\n",
    "\n",
    "# Crear un diccionario con todos los resultados\n",
    "final_results = {\n",
    "    'best_params': grid_search.best_params_,\n",
    "    'metrics': sklearn_metrics,\n",
    "    'training_time_seconds': sklearn_training_time\n",
    "}\n",
    "\n",
    "# Guardar los resultados en un archivo JSON\n",
    "with open(RESULTS_PATH, 'w') as f:\n",
    "    json.dump(final_results, f, indent=4)\n",
    "\n",
    "print(f\"Resultados de Scikit-learn guardados en: '{RESULTS_PATH}'\")"
   ]
  },
  {
   "cell_type": "markdown",
   "id": "c378ad87",
   "metadata": {},
   "source": [
    "---\n",
    "### Fin del Notebook 2\n",
    "\n",
    "Hemos entrenado y evaluado con éxito un modelo RandomForest utilizando Scikit-learn. Los artefactos resultantes están listos para el siguiente paso, que será realizar el mismo proceso con PySpark.\n",
    "---"
   ]
  }
 ],
 "metadata": {
  "jupytext": {
   "cell_metadata_filter": "-all",
   "main_language": "python",
   "notebook_metadata_filter": "-all"
  },
  "kernelspec": {
   "display_name": "mlvenv",
   "language": "python",
   "name": "python3"
  },
  "language_info": {
   "codemirror_mode": {
    "name": "ipython",
    "version": 3
   },
   "file_extension": ".py",
   "mimetype": "text/x-python",
   "name": "python",
   "nbconvert_exporter": "python",
   "pygments_lexer": "ipython3",
   "version": "3.9.23"
  }
 },
 "nbformat": 4,
 "nbformat_minor": 5
}
